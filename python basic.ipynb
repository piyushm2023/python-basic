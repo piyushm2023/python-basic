{
 "cells": [
  {
   "cell_type": "code",
   "execution_count": null,
   "id": "513982a0-9edf-47d6-af99-a062df213a98",
   "metadata": {},
   "outputs": [],
   "source": []
  }
 ],
 "metadata": {
  "kernelspec": {
   "display_name": "",
   "name": ""
  },
  "language_info": {
   "name": ""
  }
 },
 "nbformat": 4,
 "nbformat_minor": 5
}
